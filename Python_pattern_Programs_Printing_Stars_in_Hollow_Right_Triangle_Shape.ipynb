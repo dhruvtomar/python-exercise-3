{
  "nbformat": 4,
  "nbformat_minor": 0,
  "metadata": {
    "colab": {
      "provenance": [],
      "authorship_tag": "ABX9TyNsyCsuEo91hSlFyTGxIcwU",
      "include_colab_link": true
    },
    "kernelspec": {
      "name": "python3",
      "display_name": "Python 3"
    },
    "language_info": {
      "name": "python"
    }
  },
  "cells": [
    {
      "cell_type": "markdown",
      "metadata": {
        "id": "view-in-github",
        "colab_type": "text"
      },
      "source": [
        "<a href=\"https://colab.research.google.com/github/dhruvtomar/python-exercise-3/blob/main/Python_pattern_Programs_Printing_Stars_in_Hollow_Right_Triangle_Shape.ipynb\" target=\"_parent\"><img src=\"https://colab.research.google.com/assets/colab-badge.svg\" alt=\"Open In Colab\"/></a>"
      ]
    },
    {
      "cell_type": "code",
      "execution_count": 36,
      "metadata": {
        "colab": {
          "base_uri": "https://localhost:8080/"
        },
        "id": "zqLD2VpH5zxa",
        "outputId": "0254e0f7-ce59-441c-8758-55e29591aab4"
      },
      "outputs": [
        {
          "output_type": "stream",
          "name": "stdout",
          "text": [
            "Numger of rows:12\n",
            "*           \n",
            "**          \n",
            "* *         \n",
            "*  *        \n",
            "*   *       \n",
            "*    *      \n",
            "*     *     \n",
            "*      *    \n",
            "*       *   \n",
            "*        *  \n",
            "*         * \n",
            "************\n"
          ]
        }
      ],
      "source": [
        "n = int(input(\"Numger of rows:\"))\n",
        "\n",
        "for row in range (n):\n",
        "  for col in range (n):\n",
        "    if col==0 or row==n-1 or row == col:\n",
        "      print(\"*\", end=\"\")\n",
        "    else:\n",
        "      print(end=\" \")\n",
        "  print()"
      ]
    },
    {
      "cell_type": "code",
      "source": [
        "#Printing Stars in Pattern\n",
        "\n",
        "n = int(input(\"Numger of rows:\"))\n",
        "\n",
        "for row in range (n):\n",
        "  for col in range (row+1):\n",
        "      print(\"*\", end=\" \")\n",
        "  print()"
      ],
      "metadata": {
        "colab": {
          "base_uri": "https://localhost:8080/"
        },
        "id": "9sX-ogaECbBq",
        "outputId": "ac380588-56d7-4155-8569-767766535679"
      },
      "execution_count": 37,
      "outputs": [
        {
          "output_type": "stream",
          "name": "stdout",
          "text": [
            "Numger of rows:8\n",
            "* \n",
            "* * \n",
            "* * * \n",
            "* * * * \n",
            "* * * * * \n",
            "* * * * * * \n",
            "* * * * * * * \n",
            "* * * * * * * * \n"
          ]
        }
      ]
    }
  ]
}