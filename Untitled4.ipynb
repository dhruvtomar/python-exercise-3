{
 "cells": [
  {
   "cell_type": "code",
   "execution_count": 1,
   "id": "68fe8253",
   "metadata": {},
   "outputs": [
    {
     "data": {
      "text/plain": [
       "2"
      ]
     },
     "execution_count": 1,
     "metadata": {},
     "output_type": "execute_result"
    }
   ],
   "source": [
    "1+1\n"
   ]
  },
  {
   "cell_type": "markdown",
   "id": "f60476e2",
   "metadata": {},
   "source": [
    "dhruv \n"
   ]
  },
  {
   "cell_type": "code",
   "execution_count": 2,
   "id": "a617f048",
   "metadata": {},
   "outputs": [
    {
     "ename": "NameError",
     "evalue": "name 'dhruv' is not defined",
     "output_type": "error",
     "traceback": [
      "\u001b[0;31m---------------------------------------------------------------------------\u001b[0m",
      "\u001b[0;31mNameError\u001b[0m                                 Traceback (most recent call last)",
      "Input \u001b[0;32mIn [2]\u001b[0m, in \u001b[0;36m<cell line: 1>\u001b[0;34m()\u001b[0m\n\u001b[0;32m----> 1\u001b[0m \u001b[43mdhruv\u001b[49m\n",
      "\u001b[0;31mNameError\u001b[0m: name 'dhruv' is not defined"
     ]
    }
   ],
   "source": [
    "dhruv"
   ]
  },
  {
   "cell_type": "raw",
   "id": "d16e012c",
   "metadata": {},
   "source": [
    "dhruv"
   ]
  },
  {
   "cell_type": "code",
   "execution_count": 3,
   "id": "b58766cb",
   "metadata": {},
   "outputs": [
    {
     "data": {
      "text/plain": [
       "'dhruv'"
      ]
     },
     "execution_count": 3,
     "metadata": {},
     "output_type": "execute_result"
    }
   ],
   "source": [
    "\"dhruv\""
   ]
  },
  {
   "cell_type": "code",
   "execution_count": 4,
   "id": "cbdd94be",
   "metadata": {},
   "outputs": [
    {
     "data": {
      "text/plain": [
       "9"
      ]
     },
     "execution_count": 4,
     "metadata": {},
     "output_type": "execute_result"
    }
   ],
   "source": [
    "3*3"
   ]
  },
  {
   "cell_type": "code",
   "execution_count": null,
   "id": "43eaf91d",
   "metadata": {},
   "outputs": [],
   "source": []
  }
 ],
 "metadata": {
  "kernelspec": {
   "display_name": "Python 3 (ipykernel)",
   "language": "python",
   "name": "python3"
  },
  "language_info": {
   "codemirror_mode": {
    "name": "ipython",
    "version": 3
   },
   "file_extension": ".py",
   "mimetype": "text/x-python",
   "name": "python",
   "nbconvert_exporter": "python",
   "pygments_lexer": "ipython3",
   "version": "3.9.7"
  }
 },
 "nbformat": 4,
 "nbformat_minor": 5
}
